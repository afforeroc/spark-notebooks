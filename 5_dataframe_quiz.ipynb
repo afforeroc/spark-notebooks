{
 "cells": [
  {
   "cell_type": "markdown",
   "metadata": {},
   "source": [
    "# Data Wrangling with DataFrames Coding Quiz\n",
    "\n",
    "Use this Jupyter notebook to find the answers to the quiz in the previous section. There is an answer key in the next part of the lesson."
   ]
  },
  {
   "cell_type": "code",
   "execution_count": 87,
   "metadata": {},
   "outputs": [],
   "source": [
    "from pyspark.sql import SparkSession\n",
    "\n",
    "# TODOS: \n",
    "# 1) import any other libraries you might need\n",
    "# 2) instantiate a Spark session\n",
    "spark = SparkSession \\\n",
    "    .builder \\\n",
    "    .appName(\"Dataframe Quiz\") \\\n",
    "    .getOrCreate()\n",
    "# 3) read in the data set located at the path \"data/sparkify_log_small.json\"\n",
    "path = \"data/sparkify_log_small.json\"\n",
    "sparkify_log_small = spark.read.json(path)\n",
    "# 4) write code to answer the quiz questions"
   ]
  },
  {
   "cell_type": "markdown",
   "metadata": {},
   "source": [
    "# Question 1\n",
    "\n",
    "Which page did user id \"\" (empty string) NOT visit?"
   ]
  },
  {
   "cell_type": "code",
   "execution_count": 88,
   "metadata": {},
   "outputs": [
    {
     "name": "stdout",
     "output_type": "stream",
     "text": [
      "Row(page='Downgrade')\n",
      "Row(page='Error')\n",
      "Row(page='Logout')\n",
      "Row(page='Save Settings')\n",
      "Row(page='Submit Upgrade')\n",
      "Row(page='Settings')\n",
      "Row(page='NextSong')\n",
      "Row(page='Upgrade')\n",
      "Row(page='Submit Downgrade')\n"
     ]
    }
   ],
   "source": [
    "# TODO: write your code to answer question 1\n",
    "all_pages = sparkify_log_small.select(\"page\").dropDuplicates([\"page\"]).collect()\n",
    "empty_user_pages_visit = sparkify_log_small.select(\"page\").where(sparkify_log_small.userId == \"\").dropDuplicates([\"page\"]).collect()\n",
    "empty_user_pages_not_visit = set(all_pages).difference(set(empty_user_pages_visit))\n",
    "for page in empty_user_pages_not_visit:\n",
    "    print(page)"
   ]
  },
  {
   "cell_type": "markdown",
   "metadata": {},
   "source": [
    "# Question 2 - Reflect\n",
    "\n",
    "What type of user does the empty string user id most likely refer to?\n"
   ]
  },
  {
   "cell_type": "code",
   "execution_count": 93,
   "metadata": {},
   "outputs": [
    {
     "name": "stdout",
     "output_type": "stream",
     "text": [
      "root\n",
      " |-- artist: string (nullable = true)\n",
      " |-- auth: string (nullable = true)\n",
      " |-- firstName: string (nullable = true)\n",
      " |-- gender: string (nullable = true)\n",
      " |-- itemInSession: long (nullable = true)\n",
      " |-- lastName: string (nullable = true)\n",
      " |-- length: double (nullable = true)\n",
      " |-- level: string (nullable = true)\n",
      " |-- location: string (nullable = true)\n",
      " |-- method: string (nullable = true)\n",
      " |-- page: string (nullable = true)\n",
      " |-- registration: long (nullable = true)\n",
      " |-- sessionId: long (nullable = true)\n",
      " |-- song: string (nullable = true)\n",
      " |-- status: long (nullable = true)\n",
      " |-- ts: long (nullable = true)\n",
      " |-- userAgent: string (nullable = true)\n",
      " |-- userId: string (nullable = true)\n",
      "\n",
      "[Row(status=307), Row(status=200)]\n",
      "[Row(userAgent=None)]\n",
      "[Row(firstName=None)]\n",
      "[Row(artist=None)]\n",
      "[Row(lastName=None)]\n",
      "[Row(registration=None)]\n",
      "[Row(song=None)]\n",
      "[Row(location=None)]\n",
      "[Row(userId='')]\n",
      "[Row(length=None)]\n",
      "[Row(page='Home'), Row(page='About'), Row(page='Login'), Row(page='Help')]\n",
      "[Row(auth='Logged Out'), Row(auth='Guest')]\n",
      "[Row(level='free'), Row(level='paid')]\n",
      "[Row(gender=None)]\n",
      "[Row(method='PUT'), Row(method='GET')]\n",
      "\n",
      "R/ Empty string user id is a possible user is not registered yet.\n"
     ]
    }
   ],
   "source": [
    "# TODO: use this space to explore the behavior of the user with an empty string\n",
    "sparkify_log_small.printSchema()\n",
    "squema_set = set(sparkify_log_small.schema.names)\n",
    "squema_exceptions_set = set([\"itemInSession\", \"sessionId\", \"ts\"])\n",
    "squema_final = squema_set.difference(squema_exceptions_set)\n",
    "for elem in squema_final:\n",
    "    output = sparkify_log_small.select(elem).where(sparkify_log_small.userId == \"\").dropDuplicates().collect()\n",
    "    print(output)\n",
    "print(\"\\nR/ Empty string user id is a possible user is not registered yet.\")"
   ]
  },
  {
   "cell_type": "markdown",
   "metadata": {},
   "source": [
    "# Question 3\n",
    "\n",
    "How many female users do we have in the data set?"
   ]
  },
  {
   "cell_type": "code",
   "execution_count": 90,
   "metadata": {},
   "outputs": [],
   "source": [
    "# TODO: write your code to answer question 3"
   ]
  },
  {
   "cell_type": "markdown",
   "metadata": {},
   "source": [
    "# Question 4\n",
    "\n",
    "How many songs were played from the most played artist?"
   ]
  },
  {
   "cell_type": "code",
   "execution_count": 91,
   "metadata": {},
   "outputs": [],
   "source": [
    "# TODO: write your code to answer question 4"
   ]
  },
  {
   "cell_type": "markdown",
   "metadata": {},
   "source": [
    "# Question 5 (challenge)\n",
    "\n",
    "How many songs do users listen to on average between visiting our home page? Please round your answer to the closest integer.\n",
    "\n"
   ]
  },
  {
   "cell_type": "code",
   "execution_count": 92,
   "metadata": {},
   "outputs": [],
   "source": [
    "# TODO: write your code to answer question 5"
   ]
  }
 ],
 "metadata": {
  "kernelspec": {
   "display_name": "Python 3",
   "language": "python",
   "name": "python3"
  },
  "language_info": {
   "codemirror_mode": {
    "name": "ipython",
    "version": 3
   },
   "file_extension": ".py",
   "mimetype": "text/x-python",
   "name": "python",
   "nbconvert_exporter": "python",
   "pygments_lexer": "ipython3",
   "version": "3.6.3"
  }
 },
 "nbformat": 4,
 "nbformat_minor": 2
}
